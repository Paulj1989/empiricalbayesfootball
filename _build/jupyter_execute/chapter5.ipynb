{
 "cells": [
  {
   "cell_type": "markdown",
   "metadata": {},
   "source": [
    "# Bayesian A/B Testing"
   ]
  },
  {
   "cell_type": "code",
   "execution_count": 1,
   "metadata": {},
   "outputs": [],
   "source": [
    "%load_ext autoreload\n",
    "%autoreload 2\n",
    "from scipy import integrate\n",
    "import scipy.special as special\n",
    "from scipy.stats import beta,chi2_contingency,gaussian_kde,rv_continuous,norm,rv_histogram\n",
    "import matplotlib.pyplot as plt\n",
    "import matplotlib as mpl\n",
    "import pandas as pd \n",
    "import numpy as np\n",
    "import numpy.typing as npt\n",
    "import matplotlib.cm as cm\n",
    "import seaborn as sns\n",
    "import quadpy\n",
    "df = pd.read_csv('fbrefshootingdata.csv', encoding='utf-8-sig')\n",
    "df = df[(df.npG >= 1) & (df.Shots >= 10)].reset_index(drop=True)\n",
    "df['Conv'] = df['npG']/df['Shots']\n",
    "bf = beta.fit(df['Conv'], floc=0, fscale=1)\n",
    "df['Eb_Conv'] = (df['npG']+bf[0])/(df['Shots']+bf[0]+bf[1])\n",
    "df['a'] = df['npG'] + bf[0]\n",
    "df['b'] = df['Shots'] + bf[1] - df['npG']"
   ]
  },
  {
   "cell_type": "markdown",
   "metadata": {},
   "source": [
    "We will use A/B testing to answer the burning question that haunts us in our dreams : is Messi better than Ronaldo ? Let's use multiple methods to destroy Ronnie boy."
   ]
  },
  {
   "cell_type": "code",
   "execution_count": 2,
   "metadata": {},
   "outputs": [],
   "source": [
    "messi = df[df.Player.str.contains('Lionel Messi')]\n",
    "ronaldo = df[df.Player.str.contains('Cristiano Ronaldo')]"
   ]
  },
  {
   "cell_type": "markdown",
   "metadata": {},
   "source": [
    "Method 1 : Simulations. We will use the posterior distributions for each player to draw many many possible conversion rate values and check in how many of them Messi beats Ronaldo."
   ]
  },
  {
   "cell_type": "code",
   "execution_count": 3,
   "metadata": {},
   "outputs": [
    {
     "name": "stdout",
     "output_type": "stream",
     "text": [
      "Probability that Messi is better at shot conversion than Ronaldo is 98 %\n"
     ]
    }
   ],
   "source": [
    "messi_r = beta.rvs(messi.a, messi.b, size=100000)\n",
    "ronaldo_r = beta.rvs(ronaldo.a, ronaldo.b, size=100000)\n",
    "simulation = np.mean(messi_r > ronaldo_r)\n",
    "print(f\"Probability that Messi is better at shot conversion than Ronaldo is {round(simulation*100)} %\")"
   ]
  },
  {
   "cell_type": "code",
   "execution_count": 4,
   "metadata": {},
   "outputs": [
    {
     "data": {
      "image/png": "[encoded data removed]",
      "text/plain": [
       "<Figure size 432x288 with 1 Axes>"
      ]
     },
     "metadata": {
      "filenames": {
       "image/png": "C:\\Users\\bosem\\OneDrive\\Desktop\\empiricalbayesfootball\\_build\\jupyter_execute\\Chapter5_6_0.png"
      },
      "needs_background": "light"
     },
     "output_type": "display_data"
    }
   ],
   "source": [
    "fig, ax = plt.subplots()\n",
    "ax.hist(messi_r, density=True, histtype='stepfilled', alpha=0.2, label = 'Messi');\n",
    "ax.hist(ronaldo_r, density=True, histtype='stepfilled', alpha=0.2, label = 'Ronaldo');\n",
    "ax.legend();\n",
    "ax.set_xlabel('Shot conversion rate');\n",
    "ax.set_ylabel('Density');\n",
    "ax.set_title('A Million simulations with posterior distributions'+'\\n'+\n",
    "            'of shot conversion rate distributions');"
   ]
  },
  {
   "cell_type": "markdown",
   "metadata": {},
   "source": [
    "Method 2 : Exact formula for Beta distributions. Suppose you have the two distributions as $ p_A \\sim Beta(\\alpha_A, \\beta_A) $ and $ p_B \\sim Beta(\\alpha_B, \\beta_B) $ Then, the probability that $p_B > p_A $ is given by \n",
    "\n",
    "$$\n",
    "    Pr(p_B > p_A) = \\sum_{i=0}^{\\alpha_B - 1} \\frac{B(\\alpha_A + i, \\beta_A + \\beta_B)}{(\\beta_B + i) B(1+i, \\beta_B) B(\\alpha_A, \\beta_A)}\n",
    "$$\n",
    "\n",
    "where B is the Beta function."
   ]
  },
  {
   "cell_type": "code",
   "execution_count": 5,
   "metadata": {},
   "outputs": [
    {
     "name": "stdout",
     "output_type": "stream",
     "text": [
      "Probability that Messi is better at shot conversion than Ronaldo is 98 %\n"
     ]
    }
   ],
   "source": [
    "def func(a1,b1,a2,b2):\n",
    "    ii = np.arange(0, int(round(a2)))\n",
    "    logvals = special.betaln(a1+ii,b1+b2) - np.log(b2 + ii) - special.betaln(1+ii,b2) - special.betaln(a1,b1)\n",
    "    return round(np.sum(np.exp(logvals))*100)\n",
    "\n",
    "prob = func(ronaldo.a.values.item(), ronaldo.b.values.item(), messi.a.values.item(), messi.b.values.item() )\n",
    "print(f\"Probability that Messi is better at shot conversion than Ronaldo is {prob} %\")"
   ]
  },
  {
   "cell_type": "markdown",
   "metadata": {},
   "source": [
    "$\\chi^2$ test "
   ]
  },
  {
   "cell_type": "code",
   "execution_count": 6,
   "metadata": {},
   "outputs": [
    {
     "name": "stdout",
     "output_type": "stream",
     "text": [
      "p value is 0.0460006613899868\n",
      "Dependent (reject H0)\n"
     ]
    }
   ],
   "source": [
    "data = [[messi.npG.values.item(), messi.Shots.values.item()-messi.npG.values.item()],\n",
    "        [ronaldo.npG.values.item(), ronaldo.Shots.values.item() - ronaldo.npG.values.item()]]\n",
    "stat, p, dof, expected = chi2_contingency(data)\n",
    "  \n",
    "# interpret p-value\n",
    "alpha = 0.05\n",
    "print(\"p value is \" + str(p))\n",
    "if p <= alpha:\n",
    "    print('Dependent (reject H0)')\n",
    "else:\n",
    "    print('Independent (H0 holds true)')"
   ]
  },
  {
   "cell_type": "code",
   "execution_count": 7,
   "metadata": {},
   "outputs": [
    {
     "data": {
      "image/png": "[encoded data removed]",
      "text/plain": [
       "<Figure size 432x288 with 1 Axes>"
      ]
     },
     "metadata": {
      "filenames": {
       "image/png": "C:\\Users\\bosem\\OneDrive\\Desktop\\empiricalbayesfootball\\_build\\jupyter_execute\\Chapter5_11_0.png"
      },
      "needs_background": "light"
     },
     "output_type": "display_data"
    }
   ],
   "source": [
    "plt.hist(messi_r - ronaldo_r);"
   ]
  },
  {
   "cell_type": "code",
   "execution_count": 8,
   "metadata": {},
   "outputs": [
    {
     "data": {
      "image/png": "[encoded data removed]",
      "text/plain": [
       "<Figure size 432x288 with 1 Axes>"
      ]
     },
     "metadata": {
      "filenames": {
       "image/png": "C:\\Users\\bosem\\OneDrive\\Desktop\\empiricalbayesfootball\\_build\\jupyter_execute\\Chapter5_12_0.png"
      },
      "needs_background": "light"
     },
     "output_type": "display_data"
    }
   ],
   "source": [
    "hist = np.histogram(messi_r - ronaldo_r)\n",
    "hist_dist = rv_histogram(hist)\n",
    "plt.plot(np.linspace(-0.2,0.2,100), hist_dist.pdf(np.linspace(-0.2,.2,100)));"
   ]
  },
  {
   "cell_type": "code",
   "execution_count": 9,
   "metadata": {},
   "outputs": [
    {
     "data": {
      "text/plain": [
       "array([0.02240902, 0.07004967])"
      ]
     },
     "execution_count": 9,
     "metadata": {},
     "output_type": "execute_result"
    }
   ],
   "source": [
    "hist_dist.ppf([0.25, 0.975])  ### 95 % credible interval"
   ]
  },
  {
   "cell_type": "code",
   "execution_count": null,
   "metadata": {},
   "outputs": [],
   "source": []
  }
 ],
 "metadata": {
  "kernelspec": {
   "display_name": "Python 3",
   "language": "python",
   "name": "python3"
  },
  "language_info": {
   "codemirror_mode": {
    "name": "ipython",
    "version": 3
   },
   "file_extension": ".py",
   "mimetype": "text/x-python",
   "name": "python",
   "nbconvert_exporter": "python",
   "pygments_lexer": "ipython3",
   "version": "3.7.6"
  }
 },
 "nbformat": 4,
 "nbformat_minor": 4
}